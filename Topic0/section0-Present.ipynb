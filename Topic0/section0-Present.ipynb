{
 "cells": [
  {
   "cell_type": "markdown",
   "metadata": {},
   "source": [
    "# AM 50 Python Basics "
   ]
  },
  {
   "cell_type": "markdown",
   "metadata": {},
   "source": [
    "This tutorial will guide you through the basics of Python. A guide to installing and setting up jupyter can be found on the course github. For now, scroll through the cells and run them(`shift+enter`) to see what they each do. Feel free to modify or add to them by double clicking in a cell.\n",
    "\n",
    "[Jake Vanderplas ](https://jakevdp.github.io/) runs a great blog exploring scientific computing in Python. He has also written a free book that goes into more detail on the topics introduced in this section. [Whirlwind tour of python](https://jakevdp.github.io/WhirlwindTourOfPython)\n",
    "\n",
    "In particular the parts you should read to loosely correspond to this section are:\n",
    "\n",
    "3. [Basic Python Syntax](https://jakevdp.github.io/WhirlwindTourOfPython/02-basic-python-syntax.html)\n",
    "4. [Python Semantics: Variables](https://jakevdp.github.io/WhirlwindTourOfPython/03-semantics-variables.html)\n",
    "5. [Python Semantics: Operators](https://jakevdp.github.io/WhirlwindTourOfPython/04-semantics-operators.html)\n",
    "7. [Built-In Data Structures](https://jakevdp.github.io/WhirlwindTourOfPython/06-built-in-data-structures.html)\n",
    "8. [Control Flow Statements](https://jakevdp.github.io/WhirlwindTourOfPython/07-control-flow-statements.html)\n",
    "\n",
    "We would recommend avoiding chapter 6 for now, and the rest of the book is definitely valuable to read, but you don't need to this week."
   ]
  },
  {
   "cell_type": "markdown",
   "metadata": {},
   "source": [
    "### Hello World"
   ]
  },
  {
   "cell_type": "code",
   "execution_count": null,
   "metadata": {},
   "outputs": [],
   "source": [
    "print(\"Hello World\")"
   ]
  },
  {
   "cell_type": "markdown",
   "metadata": {},
   "source": [
    "### Variables"
   ]
  },
  {
   "cell_type": "markdown",
   "metadata": {},
   "source": [
    "Much like in algebra, python allows us to assign values to particular symbols and refer to them later. We can also build up new variables by carrying out operations on existing variable. Unlike algebra, however, the values we associate with a variable do not need to be numbers."
   ]
  },
  {
   "cell_type": "code",
   "execution_count": null,
   "metadata": {
    "collapsed": true
   },
   "outputs": [],
   "source": [
    "x = 7\n",
    "y = 11\n",
    "z = x+y\n",
    "a = \"Look! A String!\""
   ]
  },
  {
   "cell_type": "code",
   "execution_count": null,
   "metadata": {},
   "outputs": [],
   "source": [
    "print(x)\n",
    "print(y)\n",
    "print(z)\n",
    "print(a)"
   ]
  },
  {
   "cell_type": "markdown",
   "metadata": {},
   "source": [
    "### Arithmetic and Comparison\n"
   ]
  },
  {
   "cell_type": "markdown",
   "metadata": {},
   "source": [
    "$2 \\left(x-3\\right)+\\frac{7y}{2}$"
   ]
  },
  {
   "cell_type": "code",
   "execution_count": null,
   "metadata": {},
   "outputs": [],
   "source": ["2*(x-3)+7*y/2"]
  },
  {
   "cell_type": "markdown",
   "metadata": {},
   "source": [
    "$x^3 - 5x^2 -10x +1$"
   ]
  },
  {
   "cell_type": "code",
   "execution_count": null,
   "metadata": {},
   "outputs": [],
   "source": ["x**3-5*x**2-10*x+1"]
  },
  {
   "cell_type": "markdown",
   "metadata": {},
   "source": [
    "#### Equals"
   ]
  },
  {
   "cell_type": "code",
   "execution_count": null,
   "metadata": {},
   "outputs": [],
   "source": [
    "x == y"
   ]
  },
  {
   "cell_type": "markdown",
   "metadata": {},
   "source": [
    "#### Not Equals"
   ]
  },
  {
   "cell_type": "code",
   "execution_count": null,
   "metadata": {},
   "outputs": [],
   "source": [
    "x != y"
   ]
  },
  {
   "cell_type": "markdown",
   "metadata": {},
   "source": [
    "#### Multiple Comparisons"
   ]
  },
  {
   "cell_type": "code",
   "execution_count": null,
   "metadata": {},
   "outputs": [],
   "source": [
    "x>3 and y<=10"
   ]
  },
  {
   "cell_type": "code",
   "execution_count": null,
   "metadata": {},
   "outputs": [],
   "source": [
    "x>3 or y<10"
   ]
  },
  {
   "cell_type": "code",
   "execution_count": null,
   "metadata": {},
   "outputs": [],
   "source": [
    "10 < y <20"
   ]
  },
  {
   "cell_type": "code",
   "execution_count": null,
   "metadata": {},
   "outputs": [],
   "source": [
    "y%x"
   ]
  },
  {
   "cell_type": "markdown",
   "metadata": {},
   "source": [
    "### Lists\n",
    "\n",
    "Sometimes you dont want to create a variable for every number or string you have, especially if all the values are related in some way. To make this more convenient, we can store values in a list. Lists are initialized by square brackets surrounding comma separated values."
   ]
  },
  {
   "cell_type": "code",
   "execution_count": 1,
   "metadata": {},
   "outputs": [],
   "source": [
    "my_list = [12, 6, 21]"
   ]
  },
  {
   "cell_type": "markdown",
   "metadata": {},
   "source": [
    "Lists are mutable which in this case means we can `append` new items to them."
   ]
  },
  {
   "cell_type": "code",
   "execution_count": null,
   "metadata": {},
   "outputs": [],
   "source": [
    "my_list.append(8)\n",
    "print(my_list)"
   ]
  },
  {
   "cell_type": "markdown",
   "metadata": {},
   "source": [
    "Lists are ordered so we can *index* them. Python is zero-indexed so to get the first element we would call `my_list[0]`\n",
    "\n",
    "We can also change single elements in a list e.g. with `my_list[2] = 25`"
   ]
  },
  {
   "cell_type": "code",
   "execution_count": null,
   "metadata": {},
   "outputs": [],
   "source": [
    "print(my_list[0])\n",
    "print(my_list[2])\n",
    "print(my_list[-1]) # the last element"
   ]
  },
  {
   "cell_type": "code",
   "execution_count": null,
   "metadata": {},
   "outputs": [],
   "source": [
    "my_list[2] = 16\n",
    "print(my_list)"
   ]
  },
  {
   "cell_type": "markdown",
   "metadata": {},
   "source": [
    "We can select portions of a list using slicing"
   ]
  },
  {
   "cell_type": "code",
   "execution_count": null,
   "metadata": {},
   "outputs": [],
   "source": [
    "print(my_list[1:3]) #includes the first element, excludes the last\n",
    "print(my_list[2:]) # from element 2 onwards\n",
    "print(my_list[:-1]) # from the beginning up to but not including the last element"
   ]
  },
  {
   "cell_type": "markdown",
   "metadata": {},
   "source": [
    "Lists can also contain strings or anything else. They can even contain multiple different types of things."
   ]
  },
  {
   "cell_type": "code",
   "execution_count": null,
   "metadata": {},
   "outputs": [],
   "source": [
    "names = [\"Timmy\", \"Tommy\", \"Tammy\"]\n",
    "misc_list = [14, \"James\", 1.635, [3,4,5] ]"
   ]
  },
  {
   "cell_type": "markdown",
   "metadata": {},
   "source": [
    "Most importantly, we can create lists of lists, or lists of lists of lists, and so on."
   ]
  },
  {
   "cell_type": "code",
   "execution_count": null,
   "metadata": {},
   "outputs": [],
   "source": [
    "ptriples = [[3,4,5],[5,12,13],[7,24,25],[8,15,17]]"
   ]
  },
  {
   "cell_type": "code",
   "execution_count": null,
   "metadata": {},
   "outputs": [],
   "source": [
    "print(ptriples) # whole list \n"
    "print(ptriples[0]) # [3,4,5] \n"
    "print(ptriples[0][1]) # 4"
   ]
  },
  {
   "cell_type": "markdown",
   "metadata": {},
   "source": [
    "This list of lists is naively how you would represent a matrix in python. We'll talk later about a better way."
   ]
  },
  {
   "cell_type": "markdown",
   "metadata": {},
   "source": [
    "### Loops"
   ]
  },
  {
   "cell_type": "markdown",
   "metadata": {},
   "source": [
    "Loops are way to do things many times over automatically. Most commonly used is the `for` loop."
   ]
  },
  {
   "cell_type": "code",
   "execution_count": null,
   "metadata": {},
   "outputs": [],
   "source": [
    "for i in range(5):\n",
    "    print(i**2) # 0 1 4 9 16 on new lines"
   ]
  },
  {
   "cell_type": "markdown",
   "metadata": {},
   "source": [
    "The loop above is executed for every `i` in the list [0,1,...N-1], or N times total. As long as we provide an iterable, i.e a list or an array to the for loop, we dont need to simple iterate of over all integers."
   ]
  },
  {
   "cell_type": "code",
   "execution_count": null,
   "metadata": {},
   "outputs": [],
   "source": [
    "nums = [3,17,42,111,138]\n",
    "print(\"n\",\"n^2\")\n",
    "for n in nums: #Lists are \"iterable\" we can loop over them without indexing\n",
    "    print(n, n**2) #len(nums) goes through whole list"
   ]
  },
  {
   "cell_type": "markdown",
   "metadata": {},
   "source": [
    "There are other sorts of loops by `for` is the most common by far and likely all you need for this course. Another very useful command is `enumerate` "
   ]
  },
  {
   "cell_type": "code",
   "execution_count": null,
   "metadata": {},
   "outputs": [],
   "source": [
    "names = ['Jim',\"Bob\", \"Sue\", \"Ann\"]\n",
    "for i, name in enumerate(names): #assigns i counter with element\n",
    "    print(i,name,ages[i])"
   ]
  },
  {
   "cell_type": "markdown",
   "metadata": {},
   "source": [
    "So it counts your progress through the list and pulls the item from the list without your needing to index explicitly. "
   ]
  },
  {
   "cell_type": "code",
   "execution_count": null,
   "metadata": {},
   "outputs": [],
   "source": [
    "#Looping over a 2D list\n",
    "for i in range(4):\n",
    "    squares = []\n",
    "    for j in range(3):\n",
    "        squares.append(ptriples[i][j]**2)\n",
    "    print (squares[0]+squares[1],squares[2])"
   ]
  },
  {
   "cell_type": "markdown",
   "metadata": {},
   "source": [
    "### A quick note about arrays \n",
    "\n",
    "Arrays are one of the essential features of `numpy` (which you should have installed with anaconda). An array is very similar to a list except that its shape cannot be changed after its creation: there is not an `append` method for arrays. \n",
    "\n",
    "- We can define an array from scratch as `my_array = np.array([12,16,21])` \n",
    "- We can convert a list of numbers into an arry `my_array = np.array(my_list)`\n",
    "- There are many useful pre-defined arrays such as `np.linspace`, `np.zeros`, `np.ones`, `np.zeros_like`, or `np.ones_like`\n",
    "- Indexing arrays is just like indexing lists with the addition of some fancier tricks we might discuss later. If you're curious you can read all about it [here](https://docs.scipy.org/doc/numpy-1.15.0/user/basics.indexing.html)"
   ]
  },
  {
   "cell_type": "code",
   "execution_count": null,
   "metadata": {
    "collapsed": true
   },
   "outputs": [],
   "source": [
    "import numpy as np\n",
    "import time"
   ]
  },
  {
   "cell_type": "code",
   "execution_count": null,
   "metadata": {},
   "outputs": [],
   "source": [
    "triples_arr = np.array(ptriples) #when arrays add do math, lists automatically append"
   ]
  },
  {
   "cell_type": "code",
   "execution_count": null,
   "metadata": {},
   "outputs": [],
   "source": [
    "print(\"Arrays\")\n",
    "print(triples_arr[0]+triples_arr[1])\n",
    "print(\"Lists\")\n",
    "print(ptriples[0]+ptriples[1])"
   ]
  },
  {
   "cell_type": "code",
   "execution_count": null,
   "metadata": {},
   "outputs": [],
   "source": [
    "print(\"Arrays\")\n",
    "print(3*triples_arr[0])\n",
    "print(\"Lists\")\n",
    "print(3*ptriples[0])"
   ]
  },
  {
   "cell_type": "code",
   "execution_count": null,
   "metadata": {},
   "outputs": [],
   "source": [
    "print(\"Arrays\")\n",
    "print(triples_arr[1,2])\n",
    "print(\"Lists\")\n",
    "print(ptriples[1][2])"
   ]
  },
  {
   "cell_type": "code",
   "execution_count": null,
   "metadata": {},
   "outputs": [],
   "source": [
    "test_arr = np.linspace(0,100,50000) #50000 equally spaced\n",
    "t0 = time.clock()\n",
    "sqrt = np.zeros_like(test_arr)\n",
    "for i,n in enumerate(test_arr):\n",
    "    sqrt[i] = np.sqrt(n)\n",
    "tf = time.clock()\n",
    "print(f\"loop time: {tf-t0}\")\n",
    "t1 = time.clock()\n",
    "sqrt_vectorized = np.sqrt(test_arr) #numpy has all the math functions you could possible want that work on full arrays\n",
    "t2 = time.clock()\n",
    "print(f\"numpy time: {t2-t1}\")\n #200 times faster",
    "print(f\"speedup: {(tf-t0)/(t2-t1)}\")"
   ]
  },
  {
   "cell_type": "markdown",
   "metadata": {},
   "source": [
    "### Conditionals\n",
    "\n"
   ]
  },
  {
   "cell_type": "markdown",
   "metadata": {},
   "source": [
    "So far, we have just shown that python is a calculator, in fact it is capable of much more. A key to performing more complicated calculations is conditional statements."
   ]
  },
  {
   "cell_type": "code",
   "execution_count": null,
   "metadata": {},
   "outputs": [],
   "source": [
    "v = 9\n",
    "if v>10:\n",
    "    print(\"v is greater than ten\")\n",
    "else:\n",
    "    print(\"v is smaller than ten\")"
   ]
  },
  {
   "cell_type": "markdown",
   "metadata": {},
   "source": [
    "To see the other behavior of the `if` statement, change the value of `x` in cell 7. Below is an example of a slightly more complicated use of if statements."
   ]
  },
  {
   "cell_type": "code",
   "execution_count": null,
   "metadata": {},
   "outputs": [],
   "source": [
    "w = 2.5\n",
    "R = 3\n",
    "if w>= -R and w <= R:\n",
    "    print((R**2 - w**2)**0.5)\n",
    "else:\n",
    "    print (\"|w| is too large. Function not defined.\")"
   ]
  },
  {
   "cell_type": "markdown",
   "metadata": {},
   "source": [
    "A final example:"
   ]
  },
  {
   "cell_type": "code",
   "execution_count": null,
   "metadata": {},
   "outputs": [],
   "source": [
    "for i, trip in enumerate(ptriples):\n",
    "    if i%2==0:\n",
    "        print(trip)"
   ]
  },
  {
   "cell_type": "code",
   "execution_count": null,
   "metadata": {},
   "outputs": [],
   "source": [
    "for i, trip in enumerate(ptriples):\n",
    "    if 5 in trip:\n",
    "        print(trip)"
   ]
  },
  {
   "cell_type": "markdown",
   "metadata": {},
   "source": [
    "### Dictionaries\n",
    "\n",
    "\n",
    "Dictionaries are a different way of storing information. Instead of indexing them numerically each element contains a *key* and an associated *value*. We then lookup the key to get back its value. As an example, lets say we want to store some constants from physics. We could make the following dictionary"
   ]
  },
  {
   "cell_type": "code",
   "execution_count": null,
   "metadata": {},
   "outputs": [],
   "source": [
    "physics_constants = {'c':3e-8, 'g':9.8, 'e':1.6e-16, 'eps0':8.85e-12}"
   ]
  },
  {
   "cell_type": "markdown",
   "metadata": {},
   "source": [
    "Then to retrieve the value of the charge of a proton we would call"
   ]
  },
  {
   "cell_type": "code",
   "execution_count": null,
   "metadata": {},
   "outputs": [],
   "source": [
    "physics_constants['e'] #rather than call integer, key can be integer or string, value can be anything (even list)"
   ]
  },
  {
   "cell_type": "markdown",
   "metadata": {},
   "source": [
    "We can add some more constants from quantum mechanics:"
   ]
  },
  {
   "cell_type": "code",
   "execution_count": null,
   "metadata": {},
   "outputs": [],
   "source": [
    "physics_constants['h'] = 6.626e-34\n",
    "physics_constants['alpha'] = 1./137\n",
    "print(physics_constants)"
   ]
  },
  {
   "cell_type": "markdown",
   "metadata": {},
   "source": [
    "The if you need to look up values based on keys a dictionary is the appropriate structure. It is faster to look things up in a dictionary that to find them in an array or list. Also keep in mind that the keys should be integers or strings but the values can be anything, numbers, strings, lists, arrays, even dictionaries."
   ]
  },
  {
   "cell_type": "markdown",
   "metadata": {},
   "source": [
    "## Fixing errors\n",
    "No matter how skilled you are at programming you will inevitably make mistakes in your code. Here we discuss a few common mistakes and how to identify and fix them."
   ]
  },
  {
   "cell_type": "code",
   "execution_count": null,
   "metadata": {},
   "outputs": [],
   "source": [
    "L = [3,4,16,23]\n",
    "L[4]\n",
    "\n",
    "for i in range(5):\n",
    "    L[i]"
   ]
  },
  {
   "cell_type": "code",
   "execution_count": null,
   "metadata": {},
   "outputs": [],
   "source": [
    "for x in L:\n",
    "    print(x**3-2*(x-3)"
   ]
  },
  {
   "cell_type": "code",
   "execution_count": null,
   "metadata": {},
   "outputs": [],
   "source": [
    "3 + ptriples[2]"
   ]
  },
  {
   "cell_type": "markdown",
   "metadata": {},
   "source": [
    "With a partner, figure out what is wrong with the line of code below. What we want to accomplish is to get the last element from the second pythagorean triple in our list. "
   ]
  },
  {
   "cell_type": "code",
   "execution_count": null,
   "metadata": {},
   "outputs": [],
   "source": [
    "ptriples[1,3]"
   ]
  },
  {
   "cell_type": "markdown",
   "metadata": {},
   "source": [
    "## Practice problems\n",
    "\n",
    "### 1. Matrix multiplication\n",
    "\n",
    "In linear algebra if $A$ is an $M\\times N$ matrix ($M$ rows and $N$ columns), we can multiply it by a vector $\\bf{x}$ of length $N$ to get another vector $\\bf{b}$ that is of length $M.$ We would write\n",
    "\n",
    "$$ A\\bf{x} = \\bf{b}.$$\n",
    "\n",
    "The formula for matrix multiplication is:\n",
    "\n",
    "$$ b_i = \\sum_{j=1}^{N} A_{i,j} x_j$$\n",
    "\n",
    "where $b_i$ is the $i$th element of the vector $b$ and $A_{i,j}$ is the element of $A$ that is in the $i$th row and $j$th column. Given the matrix $A$ represented below as a list of lists and the vector $x$ represented as a list. Write code to compute $b$."
   ]
  },
  {
   "cell_type": "code",
   "execution_count": null,
   "metadata": {},
   "outputs": [],
   "source": [
    "A = [[0,2,4,8,1],[0,2,1,6,7],[0,2,1,3,9],[1,0,2,8,2], [8,1,6,5,7]]\n",
    "x = [1, 2, 1, 3, 1]"
   ]
  },
  {
   "cell_type": "code",
   "execution_count": null,
   "metadata": {},
   "outputs": [],
   "source": [
    "b = []\n",
    "#your code to compute b here"
   ]
  },
  {
   "cell_type": "markdown",
   "metadata": {},
   "source": [
    "### 2. Dictionary practice / HW0 Warmup\n",
    "\n",
    "In the first homework, you will work with a dataset that contains movies and the actors who appear in them. This data will be given to you in the form of a dictionary where the *keys* are numbers that reference the movie name and the *values* are lists of the first 5 actors who appear in the credits also represented by id numbers. To practice with this sort of dictionary, I have reproduced a small version below that represents the marvel cinematic universe (as of about 2016). Instead of using id numbers movies titles and actors are just represented by their names as strings."
   ]
  },
  {
   "cell_type": "code",
   "execution_count": null,
   "metadata": {},
   "outputs": [],
   "source": [
    "marvel_movies = np.load(\"marvel_movies.npy\").item()\n",
    "marvel_movies.keys()"
   ]
  },
  {
   "cell_type": "code",
   "execution_count": null,
   "metadata": {},
   "outputs": [],
   "source": [
    "marvel_movies[\"Iron Man\"]"
   ]
  },
  {
   "cell_type": "markdown",
   "metadata": {},
   "source": [
    "**Part a.** Create a list that contains the names of each unique actor in this franchise."
   ]
  },
  {
   "cell_type": "code",
   "execution_count": null,
   "metadata": {},
   "outputs": [],
   "source": [
    "unique_actors = []"
   ]
  },
  {
   "cell_type": "code",
   "execution_count": null,
   "metadata": {},
   "outputs": [],
   "source": []
  },
  {
   "cell_type": "markdown",
   "metadata": {},
   "source": [
    "**Part b.** Create a dictionary where the keys are each actors name and the values are the number of movies in which each actor has appeared."
   ]
  },
  {
   "cell_type": "code",
   "execution_count": null,
   "metadata": {},
   "outputs": [],
   "source": [
    "appearances = {}"
   ]
  },
  {
   "cell_type": "markdown",
   "metadata": {},
   "source": [
    "### Plotting Basics"
   ]
  },
  {
   "cell_type": "markdown",
   "metadata": {},
   "source": [
    "The plotting package in python that we will use is called `matplotlib`. We wont go into the details of making beautiful plots today but skim the section below to get a sense of what we are looking for when we ask you to make plots and feel free to use the code whenever you like."
   ]
  },
  {
   "cell_type": "code",
   "execution_count": null,
   "metadata": {
    "collapsed": true
   },
   "outputs": [],
   "source": [
    "import matplotlib.pyplot as plt\n",
    "from matplotlib import rc\n",
    "rc(\"text\", usetex=True)\n",
    "rc(\"font\", family = \"serif\")\n",
    "rc(\"figure\",figsize=(9,6))\n",
    "rc(\"figure\",facecolor=\"white\")\n",
    "%config InlineBackend.figure_format = 'retina' #Renders images with twice the default pixel density."
   ]
  },
  {
   "cell_type": "markdown",
   "metadata": {},
   "source": [
    "`plot` is the basic plotting command, illustrated below."
   ]
  },
  {
   "cell_type": "code",
   "execution_count": null,
   "metadata": {
    "collapsed": true
   },
   "outputs": [],
   "source": [
    "#Some arrays to plot\n",
    "a1 = np.linspace(0,10,200)\n",
    "y = 0.3*(a1-5)**3"
   ]
  },
  {
   "cell_type": "code",
   "execution_count": null,
   "metadata": {},
   "outputs": [],
   "source": [
    "plt.plot(a1,y) #the first argument is the x, second is y.\n",
    "plt.show() #Show the plot, there is a jupyter module called matplotlib-inline that does this automatically. "
   ]
  },
  {
   "cell_type": "markdown",
   "metadata": {},
   "source": [
    "While I have managed to get python to draw the curve I wanted, this is a subpar plot due to its lack of clarity. One way we could make this plot better is by adding labels."
   ]
  },
  {
   "cell_type": "code",
   "execution_count": null,
   "metadata": {},
   "outputs": [],
   "source": [
    "plt.plot(a1,y) #the first argument is the x, second is y.\n",
    "plt.title(r\"$y = 0.3*(x-5)^3$\",fontsize=16)\n",
    "plt.xlabel(r\"x\")\n",
    "plt.ylabel(r\"y\")\n",
    "plt.show()"
   ]
  },
  {
   "cell_type": "markdown",
   "metadata": {},
   "source": [
    "You can also plot multiple things on the same plot. Perhaps I have some data that my function is fit to:"
   ]
  },
  {
   "cell_type": "code",
   "execution_count": null,
   "metadata": {
    "collapsed": true
   },
   "outputs": [],
   "source": [
    "data = y + np.random.normal(0,2,size=200) # add gaussian noise to my y points"
   ]
  },
  {
   "cell_type": "code",
   "execution_count": null,
   "metadata": {},
   "outputs": [],
   "source": [
    "plt.plot(a1,y,label=\"Fit\") #the first argument is the x, second is y.\n",
    "plt.plot(a1,data,\"g.\",label=\"Data\")\n",
    "plt.title(\"$y = 0.3*(x-5)^3$\",fontsize=16)\n",
    "plt.xlabel(\"x\")\n",
    "plt.ylabel(\"y\")\n",
    "plt.legend()#Generate a legend containing each of the labels\n",
    "plt.show()"
   ]
  },
  {
   "cell_type": "markdown",
   "metadata": {},
   "source": [
    "Plots like this one should be considered standard ***whenever*** you make a plot, not just in this course. All plots (especially those you turn in for homeworks, labs, etc.) should have a descriptive title, labeled axes, and a legend for curves/points if there are multiple. "
   ]
  },
  {
   "cell_type": "markdown",
   "metadata": {},
   "source": [
    "### Jupyter Tips and Tricks"
   ]
  },
  {
   "cell_type": "markdown",
   "metadata": {},
   "source": [
    "Jupyter notebooks have become the go to environment for writing python code for data scientists (and subsequently for courses). They allow you to nicely present your code alongside descriptions and discussions. The cells that contain text are written in Markdown. If you double click on any of the Markdown cells in this notebook, you can see some of the basic commands. A straightforward guide to using Markdown can be found [here](https://github.com/adam-p/markdown-here/wiki/Markdown-Cheatsheet). If you want to learn some fancier tricks and get introduced to some handy keyboard shortcuts, check out [this article](https://www.dataquest.io/blog/jupyter-notebook-tips-tricks-shortcuts/)."
   ]
  },
  {
   "cell_type": "markdown",
   "metadata": {},
   "source": [
    "A few important shortcuts: \n",
    "- `esc + m` turns a code cell into a Markdown cell and `esc + y` turns a Markdown cell into a code cell. \n",
    "- To insert a new cell above the current one, press `esc + a`. To insert below, `esc + b`. \n",
    "- To delete a cell press `esc + d + d`. \n",
    "- If you are running a cell and want it to stop, press `esc + i + i`. "
   ]
  },
  {
   "cell_type": "markdown",
   "metadata": {
    "slideshow": {
     "slide_type": "-"
    }
   },
   "source": [
    "A great feature of Markdown is that it can typeset $\\LaTeX$ the standard typesetting software for math and science. Latex has its own syntax that you can google about but the basic idea is this: putting markdown in between two `$`s tells Markdown to render in Latex.\n",
    "\n",
    "` $ \\int_{-\\infty}^\\infty e^{-x^2} dx = \\sqrt{\\pi}$`\n",
    "\n",
    "Will appear as\n",
    "\n",
    "$ \\int_{-\\infty}^\\infty e^{-x^2} dx = \\sqrt{\\pi}$\n",
    "\n",
    "Using `$$` renders in \"display mode\", i.e. centered and slightly larger.\n",
    "\n",
    "$$ \\int_{-\\infty}^\\infty e^{-x^2} dx = \\sqrt{\\pi}$$\n",
    "\n",
    "We **STRONGLY** prefer that you use LaTex in the notebooks to turn in your homeork. It is possible to include an image of a whiteboard or piece of paper with your calculations if you need to. To include an image, it needs to be in the same folder as the notebook and then type `<img src = image_filename.png width=\"250\" height = \"400\">`. This will give something like\n",
    "\n",
    "<img src=integral.png style=width width=\"500\" height=\"600\">\n",
    "\n",
    "Make sure you do not use commas. This: `<img src=integral.png style=width, width=500, height=600>` will not work, instead resulting in this output:\n",
    "\n",
    "<img src=integral.png style=width, width=\"500\", height=\"600\">\n",
    "\n",
    "\n",
    "There is lots to be done in Jupyter but for now, just consider using the different headers to label your work and including a cell after a problem to discuss the results if that is required."
   ]
  },
  {
   "cell_type": "code",
   "execution_count": null,
   "metadata": {},
   "outputs": [],
   "source": []
  }
 ],
 "metadata": {
  "kernelspec": {
   "display_name": "Python 3",
   "language": "python",
   "name": "python3"
  },
  "language_info": {
   "codemirror_mode": {
    "name": "ipython",
    "version": 3
   },
   "file_extension": ".py",
   "mimetype": "text/x-python",
   "name": "python",
   "nbconvert_exporter": "python",
   "pygments_lexer": "ipython3",
   "version": "3.7.1"
  }
 },
 "nbformat": 4,
 "nbformat_minor": 2
}
